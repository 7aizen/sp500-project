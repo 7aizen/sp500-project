{
 "cells": [
  {
   "cell_type": "code",
   "execution_count": 5,
   "metadata": {},
   "outputs": [],
   "source": [
    "import yfinance as yf"
   ]
  },
  {
   "cell_type": "code",
   "execution_count": 6,
   "metadata": {},
   "outputs": [
    {
     "name": "stdout",
     "output_type": "stream",
     "text": [
      "matplotlib is installed successfully!\n"
     ]
    }
   ],
   "source": [
    "import matplotlib.pyplot as plt\n",
    "print(\"matplotlib is installed successfully!\")"
   ]
  },
  {
   "cell_type": "code",
   "execution_count": 7,
   "metadata": {},
   "outputs": [],
   "source": [
    "import pandas as pd"
   ]
  },
  {
   "cell_type": "code",
   "execution_count": 8,
   "metadata": {},
   "outputs": [],
   "source": [
    "import numpy as np"
   ]
  },
  {
   "cell_type": "code",
   "execution_count": 9,
   "metadata": {},
   "outputs": [],
   "source": [
    "import os"
   ]
  },
  {
   "cell_type": "code",
   "execution_count": 10,
   "metadata": {},
   "outputs": [
    {
     "name": "stdout",
     "output_type": "stream",
     "text": [
      "['c:\\\\Users\\\\dr_ro\\\\miniconda3\\\\envs\\\\sp500_env\\\\python312.zip', 'c:\\\\Users\\\\dr_ro\\\\miniconda3\\\\envs\\\\sp500_env\\\\DLLs', 'c:\\\\Users\\\\dr_ro\\\\miniconda3\\\\envs\\\\sp500_env\\\\Lib', 'c:\\\\Users\\\\dr_ro\\\\miniconda3\\\\envs\\\\sp500_env', '', 'c:\\\\Users\\\\dr_ro\\\\miniconda3\\\\envs\\\\sp500_env\\\\Lib\\\\site-packages', 'c:\\\\Users\\\\dr_ro\\\\miniconda3\\\\envs\\\\sp500_env\\\\Lib\\\\site-packages\\\\win32', 'c:\\\\Users\\\\dr_ro\\\\miniconda3\\\\envs\\\\sp500_env\\\\Lib\\\\site-packages\\\\win32\\\\lib', 'c:\\\\Users\\\\dr_ro\\\\miniconda3\\\\envs\\\\sp500_env\\\\Lib\\\\site-packages\\\\Pythonwin']\n"
     ]
    }
   ],
   "source": [
    "import sys\n",
    "print(sys.path)"
   ]
  },
  {
   "cell_type": "code",
   "execution_count": 11,
   "metadata": {},
   "outputs": [],
   "source": [
    "sp500 = yf.Ticker(\"^GSPC\")"
   ]
  },
  {
   "cell_type": "code",
   "execution_count": 12,
   "metadata": {},
   "outputs": [],
   "source": [
    "sp500 = sp500.history(period='max')"
   ]
  },
  {
   "cell_type": "code",
   "execution_count": 13,
   "metadata": {},
   "outputs": [],
   "source": [
    "sp500.index = pd.to_datetime(sp500.index)"
   ]
  },
  {
   "cell_type": "code",
   "execution_count": 14,
   "metadata": {},
   "outputs": [],
   "source": [
    "if os.path.exists(\"sp500.csv\"):\n",
    "    sp500 = pd.read_csv(\"sp500.csv\", index_col=0)\n",
    "else:\n",
    "    sp500 = yf.Ticker(\"^GSPC\")\n",
    "    sp500 = sp500.history(period=\"max\")\n",
    "    sp500.to_csv(\"sp500.csv\")"
   ]
  },
  {
   "cell_type": "code",
   "execution_count": 15,
   "metadata": {},
   "outputs": [
    {
     "data": {
      "text/html": [
       "<div>\n",
       "<style scoped>\n",
       "    .dataframe tbody tr th:only-of-type {\n",
       "        vertical-align: middle;\n",
       "    }\n",
       "\n",
       "    .dataframe tbody tr th {\n",
       "        vertical-align: top;\n",
       "    }\n",
       "\n",
       "    .dataframe thead th {\n",
       "        text-align: right;\n",
       "    }\n",
       "</style>\n",
       "<table border=\"1\" class=\"dataframe\">\n",
       "  <thead>\n",
       "    <tr style=\"text-align: right;\">\n",
       "      <th></th>\n",
       "      <th>Open</th>\n",
       "      <th>High</th>\n",
       "      <th>Low</th>\n",
       "      <th>Close</th>\n",
       "      <th>Volume</th>\n",
       "      <th>Dividends</th>\n",
       "      <th>Stock Splits</th>\n",
       "    </tr>\n",
       "    <tr>\n",
       "      <th>Date</th>\n",
       "      <th></th>\n",
       "      <th></th>\n",
       "      <th></th>\n",
       "      <th></th>\n",
       "      <th></th>\n",
       "      <th></th>\n",
       "      <th></th>\n",
       "    </tr>\n",
       "  </thead>\n",
       "  <tbody>\n",
       "    <tr>\n",
       "      <th>1950-01-03</th>\n",
       "      <td>16.660000</td>\n",
       "      <td>16.660000</td>\n",
       "      <td>16.660000</td>\n",
       "      <td>16.660000</td>\n",
       "      <td>1260000</td>\n",
       "      <td>0</td>\n",
       "      <td>0</td>\n",
       "    </tr>\n",
       "    <tr>\n",
       "      <th>1950-01-04</th>\n",
       "      <td>16.850000</td>\n",
       "      <td>16.850000</td>\n",
       "      <td>16.850000</td>\n",
       "      <td>16.850000</td>\n",
       "      <td>1890000</td>\n",
       "      <td>0</td>\n",
       "      <td>0</td>\n",
       "    </tr>\n",
       "    <tr>\n",
       "      <th>1950-01-05</th>\n",
       "      <td>16.930000</td>\n",
       "      <td>16.930000</td>\n",
       "      <td>16.930000</td>\n",
       "      <td>16.930000</td>\n",
       "      <td>2550000</td>\n",
       "      <td>0</td>\n",
       "      <td>0</td>\n",
       "    </tr>\n",
       "    <tr>\n",
       "      <th>1950-01-06</th>\n",
       "      <td>16.980000</td>\n",
       "      <td>16.980000</td>\n",
       "      <td>16.980000</td>\n",
       "      <td>16.980000</td>\n",
       "      <td>2010000</td>\n",
       "      <td>0</td>\n",
       "      <td>0</td>\n",
       "    </tr>\n",
       "    <tr>\n",
       "      <th>1950-01-09</th>\n",
       "      <td>17.080000</td>\n",
       "      <td>17.080000</td>\n",
       "      <td>17.080000</td>\n",
       "      <td>17.080000</td>\n",
       "      <td>2520000</td>\n",
       "      <td>0</td>\n",
       "      <td>0</td>\n",
       "    </tr>\n",
       "    <tr>\n",
       "      <th>...</th>\n",
       "      <td>...</td>\n",
       "      <td>...</td>\n",
       "      <td>...</td>\n",
       "      <td>...</td>\n",
       "      <td>...</td>\n",
       "      <td>...</td>\n",
       "      <td>...</td>\n",
       "    </tr>\n",
       "    <tr>\n",
       "      <th>2022-09-06</th>\n",
       "      <td>3930.889893</td>\n",
       "      <td>3942.550049</td>\n",
       "      <td>3886.750000</td>\n",
       "      <td>3908.189941</td>\n",
       "      <td>2209800080</td>\n",
       "      <td>0</td>\n",
       "      <td>0</td>\n",
       "    </tr>\n",
       "    <tr>\n",
       "      <th>2022-09-07</th>\n",
       "      <td>3909.429932</td>\n",
       "      <td>3987.889893</td>\n",
       "      <td>3906.030029</td>\n",
       "      <td>3979.870117</td>\n",
       "      <td>0</td>\n",
       "      <td>0</td>\n",
       "      <td>0</td>\n",
       "    </tr>\n",
       "    <tr>\n",
       "      <th>2022-09-08</th>\n",
       "      <td>3959.939941</td>\n",
       "      <td>4010.500000</td>\n",
       "      <td>3944.810059</td>\n",
       "      <td>4006.179932</td>\n",
       "      <td>0</td>\n",
       "      <td>0</td>\n",
       "      <td>0</td>\n",
       "    </tr>\n",
       "    <tr>\n",
       "      <th>2022-09-09</th>\n",
       "      <td>4022.939941</td>\n",
       "      <td>4076.810059</td>\n",
       "      <td>4022.939941</td>\n",
       "      <td>4067.360107</td>\n",
       "      <td>0</td>\n",
       "      <td>0</td>\n",
       "      <td>0</td>\n",
       "    </tr>\n",
       "    <tr>\n",
       "      <th>2022-09-12</th>\n",
       "      <td>4083.669922</td>\n",
       "      <td>4119.279785</td>\n",
       "      <td>4083.669922</td>\n",
       "      <td>4107.279785</td>\n",
       "      <td>1602969000</td>\n",
       "      <td>0</td>\n",
       "      <td>0</td>\n",
       "    </tr>\n",
       "  </tbody>\n",
       "</table>\n",
       "<p>18292 rows × 7 columns</p>\n",
       "</div>"
      ],
      "text/plain": [
       "                   Open         High          Low        Close      Volume  \\\n",
       "Date                                                                         \n",
       "1950-01-03    16.660000    16.660000    16.660000    16.660000     1260000   \n",
       "1950-01-04    16.850000    16.850000    16.850000    16.850000     1890000   \n",
       "1950-01-05    16.930000    16.930000    16.930000    16.930000     2550000   \n",
       "1950-01-06    16.980000    16.980000    16.980000    16.980000     2010000   \n",
       "1950-01-09    17.080000    17.080000    17.080000    17.080000     2520000   \n",
       "...                 ...          ...          ...          ...         ...   \n",
       "2022-09-06  3930.889893  3942.550049  3886.750000  3908.189941  2209800080   \n",
       "2022-09-07  3909.429932  3987.889893  3906.030029  3979.870117           0   \n",
       "2022-09-08  3959.939941  4010.500000  3944.810059  4006.179932           0   \n",
       "2022-09-09  4022.939941  4076.810059  4022.939941  4067.360107           0   \n",
       "2022-09-12  4083.669922  4119.279785  4083.669922  4107.279785  1602969000   \n",
       "\n",
       "            Dividends  Stock Splits  \n",
       "Date                                 \n",
       "1950-01-03          0             0  \n",
       "1950-01-04          0             0  \n",
       "1950-01-05          0             0  \n",
       "1950-01-06          0             0  \n",
       "1950-01-09          0             0  \n",
       "...               ...           ...  \n",
       "2022-09-06          0             0  \n",
       "2022-09-07          0             0  \n",
       "2022-09-08          0             0  \n",
       "2022-09-09          0             0  \n",
       "2022-09-12          0             0  \n",
       "\n",
       "[18292 rows x 7 columns]"
      ]
     },
     "execution_count": 15,
     "metadata": {},
     "output_type": "execute_result"
    }
   ],
   "source": [
    "sp500 "
   ]
  },
  {
   "cell_type": "code",
   "execution_count": 16,
   "metadata": {},
   "outputs": [
    {
     "data": {
      "text/plain": [
       "Index(['1950-01-03', '1950-01-04', '1950-01-05', '1950-01-06', '1950-01-09',\n",
       "       '1950-01-10', '1950-01-11', '1950-01-12', '1950-01-13', '1950-01-16',\n",
       "       ...\n",
       "       '2022-08-29', '2022-08-30', '2022-08-31', '2022-09-01', '2022-09-02',\n",
       "       '2022-09-06', '2022-09-07', '2022-09-08', '2022-09-09', '2022-09-12'],\n",
       "      dtype='object', name='Date', length=18292)"
      ]
     },
     "execution_count": 16,
     "metadata": {},
     "output_type": "execute_result"
    }
   ],
   "source": [
    "sp500.index #shows the index of the s and p 500 data frame"
   ]
  },
  {
   "cell_type": "code",
   "execution_count": 17,
   "metadata": {},
   "outputs": [
    {
     "data": {
      "text/plain": [
       "<Axes: xlabel='Date'>"
      ]
     },
     "execution_count": 17,
     "metadata": {},
     "output_type": "execute_result"
    },
    {
     "data": {
      "image/png": "[encoded data removed]",
      "text/plain": [
       "<Figure size 640x480 with 1 Axes>"
      ]
     },
     "metadata": {},
     "output_type": "display_data"
    }
   ],
   "source": [
    "sp500.plot.line(y=\"Close\", use_index=True)"
   ]
  },
  {
   "cell_type": "markdown",
   "metadata": {},
   "source": []
  }
 ],
 "metadata": {
  "kernelspec": {
   "display_name": "Python 3",
   "language": "python",
   "name": "python3"
  },
  "language_info": {
   "codemirror_mode": {
    "name": "ipython",
    "version": 3
   },
   "file_extension": ".py",
   "mimetype": "text/x-python",
   "name": "python",
   "nbconvert_exporter": "python",
   "pygments_lexer": "ipython3",
   "version": "3.12.2"
  }
 },
 "nbformat": 4,
 "nbformat_minor": 2
}
